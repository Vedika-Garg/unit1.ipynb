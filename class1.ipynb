{
  "nbformat": 4,
  "nbformat_minor": 0,
  "metadata": {
    "colab": {
      "provenance": [],
      "authorship_tag": "ABX9TyNKStTDGKXwF7FFm4jm7+mi",
      "include_colab_link": true
    },
    "kernelspec": {
      "name": "python3",
      "display_name": "Python 3"
    },
    "language_info": {
      "name": "python"
    }
  },
  "cells": [
    {
      "cell_type": "markdown",
      "metadata": {
        "id": "view-in-github",
        "colab_type": "text"
      },
      "source": [
        "<a href=\"https://colab.research.google.com/github/Vedika-Garg/unit1.ipynb/blob/main/class1.ipynb\" target=\"_parent\"><img src=\"https://colab.research.google.com/assets/colab-badge.svg\" alt=\"Open In Colab\"/></a>"
      ]
    },
    {
      "cell_type": "code",
      "execution_count": 1,
      "metadata": {
        "colab": {
          "base_uri": "https://localhost:8080/"
        },
        "id": "F4H964i61oU5",
        "outputId": "47df7e61-50d1-4b90-a81e-1c32c3200b40"
      },
      "outputs": [
        {
          "output_type": "stream",
          "name": "stdout",
          "text": [
            "hii\n"
          ]
        }
      ],
      "source": [
        "print('hii')"
      ]
    },
    {
      "cell_type": "code",
      "source": [
        "c=True\n",
        "b=63.4\n",
        "a=35e3\n",
        "y=54E2\n",
        "print(type(c))\n",
        "print(type(a))\n",
        "print(type(y))\n",
        "print(type(b))"
      ],
      "metadata": {
        "colab": {
          "base_uri": "https://localhost:8080/"
        },
        "id": "tKx1qzEH23Qb",
        "outputId": "37c5ea87-b8d0-42b9-bb09-8091229ee767"
      },
      "execution_count": 5,
      "outputs": [
        {
          "output_type": "stream",
          "name": "stdout",
          "text": [
            "<class 'bool'>\n",
            "<class 'float'>\n",
            "<class 'float'>\n",
            "<class 'float'>\n"
          ]
        }
      ]
    },
    {
      "cell_type": "code",
      "source": [
        "a=10j\n",
        "b=53\n",
        "c=a+b\n",
        "print(c)\n",
        "print(type(c))"
      ],
      "metadata": {
        "colab": {
          "base_uri": "https://localhost:8080/"
        },
        "id": "u_X2bmQO2J4T",
        "outputId": "bbc0c674-9eb0-45c2-fa6f-3104c34e1f03"
      },
      "execution_count": 3,
      "outputs": [
        {
          "output_type": "stream",
          "name": "stdout",
          "text": [
            "(53+10j)\n",
            "<class 'complex'>\n"
          ]
        }
      ]
    },
    {
      "cell_type": "code",
      "source": [
        "type('Hello')"
      ],
      "metadata": {
        "colab": {
          "base_uri": "https://localhost:8080/"
        },
        "id": "wMouW14_3W57",
        "outputId": "de3c3c16-e1e8-4605-f218-7ac2b4d072ed"
      },
      "execution_count": 6,
      "outputs": [
        {
          "output_type": "execute_result",
          "data": {
            "text/plain": [
              "str"
            ]
          },
          "metadata": {},
          "execution_count": 6
        }
      ]
    },
    {
      "cell_type": "code",
      "source": [
        "a=12\n",
        "print(float(a))"
      ],
      "metadata": {
        "colab": {
          "base_uri": "https://localhost:8080/"
        },
        "id": "drWURom03wL3",
        "outputId": "5b648dd1-a102-4155-9d73-6decb6cc8fae"
      },
      "execution_count": 7,
      "outputs": [
        {
          "output_type": "stream",
          "name": "stdout",
          "text": [
            "12.0\n"
          ]
        }
      ]
    },
    {
      "cell_type": "code",
      "source": [
        "#concatenation\n",
        "a= \"4\"\n",
        "b= \"23\"\n",
        "print(a+b)\n",
        "#to add it we will use type conversion\n",
        "a= \"41\"\n",
        "b= \"23\"\n",
        "print(a + b)"
      ],
      "metadata": {
        "colab": {
          "base_uri": "https://localhost:8080/"
        },
        "id": "sQQ0ClBJ386J",
        "outputId": "410c6dfc-1b44-4e42-b0b8-fb69e434af12"
      },
      "execution_count": 12,
      "outputs": [
        {
          "output_type": "stream",
          "name": "stdout",
          "text": [
            "423\n",
            "4123\n"
          ]
        }
      ]
    },
    {
      "cell_type": "code",
      "source": [
        "birth_year = int(input(\"What is your age?\"))\n",
        "age = 2024 - birth_year\n",
        "print(age)"
      ],
      "metadata": {
        "colab": {
          "base_uri": "https://localhost:8080/"
        },
        "id": "NDJe5XpD456G",
        "outputId": "82d48f75-34cc-4c09-95bd-1249ae1ee544"
      },
      "execution_count": 14,
      "outputs": [
        {
          "output_type": "stream",
          "name": "stdout",
          "text": [
            "What is your age?19\n",
            "2005\n"
          ]
        }
      ]
    },
    {
      "cell_type": "code",
      "source": [
        "a=10\n",
        "b=54.3\n",
        "c=a+b\n",
        "print(c)"
      ],
      "metadata": {
        "colab": {
          "base_uri": "https://localhost:8080/"
        },
        "id": "30RQol6956Oo",
        "outputId": "2a242346-e71d-405d-8a08-278edbe95687"
      },
      "execution_count": 15,
      "outputs": [
        {
          "output_type": "stream",
          "name": "stdout",
          "text": [
            "64.3\n"
          ]
        }
      ]
    },
    {
      "cell_type": "code",
      "source": [
        "a = 10\n",
        "b = 23\n",
        "print(a + b)\n",
        "print(type(a))"
      ],
      "metadata": {
        "colab": {
          "base_uri": "https://localhost:8080/"
        },
        "id": "4JQZwR8N5zn7",
        "outputId": "1e18278d-0428-411a-f8d8-6b8a96ce205d"
      },
      "execution_count": 22,
      "outputs": [
        {
          "output_type": "stream",
          "name": "stdout",
          "text": [
            "33\n",
            "<class 'int'>\n"
          ]
        }
      ]
    },
    {
      "cell_type": "code",
      "source": [
        "#write a program to create your biodata and use the concept of input functions:\n",
        "#sapid,name,department,subject,semester.\n",
        "name=str(input('Enter your name:'))\n",
        "sapid=int(input('Enter your sapid:'))\n",
        "dep=str(input('Enter the name of your department:'))\n",
        "sub=str(input('Enter the subjects:'))\n",
        "sem=str(input('Enter your semester:'))\n",
        "print(name)\n",
        "print(sapid)\n",
        "print(dep)\n",
        "print(sub)\n",
        "print(sem)"
      ],
      "metadata": {
        "colab": {
          "base_uri": "https://localhost:8080/"
        },
        "id": "R9YlecSF6WTr",
        "outputId": "ea5b3d98-ebe0-405f-e86d-dfd69fd796d8"
      },
      "execution_count": 27,
      "outputs": [
        {
          "output_type": "stream",
          "name": "stdout",
          "text": [
            "Enter your name:Vedika Garg\n",
            "Enter your sapid:500120785\n",
            "Enter the name of your department:SOCS\n",
            "Enter the subjects:Python\n",
            "Enter your semester:sem2\n",
            "Vedika Garg\n",
            "500120785\n",
            "SOCS\n",
            "Python\n",
            "sem2\n"
          ]
        }
      ]
    },
    {
      "cell_type": "code",
      "source": [
        "a=\"Hello World\"\n",
        "print(\"a\")\n",
        "print(a)#this will check in memory\n",
        "print(a[1])\n",
        "print(len(a))\n",
        "print(a.lower())\n",
        "print(a.upper())\n",
        "print(a.replace(\"H\",\"j\"))\n",
        "print(a.replace())\n",
        "print(a.replace('Hello' , '4'))#output : python 4 beginners\n",
        "print(course.find('o'))\n",
        "print('pyhton' in course) #output : True is some speacial operator"
      ],
      "metadata": {
        "colab": {
          "base_uri": "https://localhost:8080/",
          "height": 383
        },
        "id": "n1gioRjq_Crv",
        "outputId": "d26437bb-dc42-4a90-b698-2877dee6dffb"
      },
      "execution_count": 31,
      "outputs": [
        {
          "output_type": "stream",
          "name": "stdout",
          "text": [
            "a\n",
            "Hello World\n",
            "e\n",
            "11\n",
            "hello world\n",
            "HELLO WORLD\n",
            "jello World\n",
            "4 World\n"
          ]
        },
        {
          "output_type": "error",
          "ename": "NameError",
          "evalue": "name 'course' is not defined",
          "traceback": [
            "\u001b[0;31m---------------------------------------------------------------------------\u001b[0m",
            "\u001b[0;31mNameError\u001b[0m                                 Traceback (most recent call last)",
            "\u001b[0;32m<ipython-input-31-5b22d3b854fa>\u001b[0m in \u001b[0;36m<cell line: 10>\u001b[0;34m()\u001b[0m\n\u001b[1;32m      8\u001b[0m \u001b[0mprint\u001b[0m\u001b[0;34m(\u001b[0m\u001b[0ma\u001b[0m\u001b[0;34m.\u001b[0m\u001b[0mreplace\u001b[0m\u001b[0;34m(\u001b[0m\u001b[0;34m\"H\"\u001b[0m\u001b[0;34m,\u001b[0m\u001b[0;34m\"j\"\u001b[0m\u001b[0;34m)\u001b[0m\u001b[0;34m)\u001b[0m\u001b[0;34m\u001b[0m\u001b[0;34m\u001b[0m\u001b[0m\n\u001b[1;32m      9\u001b[0m \u001b[0mprint\u001b[0m\u001b[0;34m(\u001b[0m\u001b[0ma\u001b[0m\u001b[0;34m.\u001b[0m\u001b[0mreplace\u001b[0m\u001b[0;34m(\u001b[0m\u001b[0;34m'Hello'\u001b[0m \u001b[0;34m,\u001b[0m \u001b[0;34m'4'\u001b[0m\u001b[0;34m)\u001b[0m\u001b[0;34m)\u001b[0m\u001b[0;34m\u001b[0m\u001b[0;34m\u001b[0m\u001b[0m\n\u001b[0;32m---> 10\u001b[0;31m \u001b[0mprint\u001b[0m\u001b[0;34m(\u001b[0m\u001b[0mcourse\u001b[0m\u001b[0;34m.\u001b[0m\u001b[0mfind\u001b[0m\u001b[0;34m(\u001b[0m\u001b[0;34m'o'\u001b[0m\u001b[0;34m)\u001b[0m\u001b[0;34m)\u001b[0m\u001b[0;34m\u001b[0m\u001b[0;34m\u001b[0m\u001b[0m\n\u001b[0m\u001b[1;32m     11\u001b[0m \u001b[0;31m#output : python 4 beginners\u001b[0m\u001b[0;34m\u001b[0m\u001b[0;34m\u001b[0m\u001b[0m\n\u001b[1;32m     12\u001b[0m \u001b[0mprint\u001b[0m\u001b[0;34m(\u001b[0m\u001b[0;34m'pyhton'\u001b[0m \u001b[0;32min\u001b[0m \u001b[0mcourse\u001b[0m\u001b[0;34m)\u001b[0m \u001b[0;31m#output : True is some speacial operator\u001b[0m\u001b[0;34m\u001b[0m\u001b[0;34m\u001b[0m\u001b[0m\n",
            "\u001b[0;31mNameError\u001b[0m: name 'course' is not defined"
          ]
        }
      ]
    }
  ]
}