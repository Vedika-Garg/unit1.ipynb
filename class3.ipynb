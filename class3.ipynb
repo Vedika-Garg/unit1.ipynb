{
  "nbformat": 4,
  "nbformat_minor": 0,
  "metadata": {
    "colab": {
      "provenance": [],
      "authorship_tag": "ABX9TyOlxkIslhEOpqXualHHA+VO",
      "include_colab_link": true
    },
    "kernelspec": {
      "name": "python3",
      "display_name": "Python 3"
    },
    "language_info": {
      "name": "python"
    }
  },
  "cells": [
    {
      "cell_type": "markdown",
      "metadata": {
        "id": "view-in-github",
        "colab_type": "text"
      },
      "source": [
        "<a href=\"https://colab.research.google.com/github/Vedika-Garg/unit1.ipynb/blob/main/class3.ipynb\" target=\"_parent\"><img src=\"https://colab.research.google.com/assets/colab-badge.svg\" alt=\"Open In Colab\"/></a>"
      ]
    },
    {
      "cell_type": "code",
      "execution_count": 1,
      "metadata": {
        "id": "AgtPeCtl0TUL",
        "colab": {
          "base_uri": "https://localhost:8080/"
        },
        "outputId": "a95c07e2-305c-45f7-b55b-9ea96ba0b59a"
      },
      "outputs": [
        {
          "output_type": "stream",
          "name": "stdout",
          "text": [
            "Enter a number:12\n",
            "Enter another number:32\n",
            "0.375 0 12 384\n"
          ]
        }
      ],
      "source": [
        "#arithmetic operations:\n",
        "a=int(input(\"Enter a number:\"))\n",
        "b=int(input(\"Enter another number:\"))\n",
        "c=a/b\n",
        "d=a//b\n",
        "e=a%b\n",
        "f=a*b\n",
        "print(c,d,e,f)"
      ]
    },
    {
      "cell_type": "code",
      "source": [
        "a=float(input(\"Enter a number:\"))\n",
        "b=float(input(\"Enter another number:\"))\n",
        "c=a/b\n",
        "d=a//b\n",
        "e=a%b\n",
        "f=a*b\n",
        "print(c , d,e,f)"
      ],
      "metadata": {
        "colab": {
          "base_uri": "https://localhost:8080/"
        },
        "id": "81zhSUQm4xi5",
        "outputId": "7049e31a-0d1c-4703-a933-15d422f26ab6"
      },
      "execution_count": 4,
      "outputs": [
        {
          "output_type": "stream",
          "name": "stdout",
          "text": [
            "Enter a number:5.7\n",
            "Enter another number:7.9\n",
            "0.7215189873417721 0.0 5.7 45.03\n"
          ]
        }
      ]
    },
    {
      "cell_type": "code",
      "source": [
        "a=input(\"Enter a number:\")\n",
        "b=input(\"Enter another number:\")\n",
        "c = int(a)/int(b)\n",
        "d = int(a)//int(b)\n",
        "e = int(a)%int(b)\n",
        "f = int(a)*int(b)\n",
        "print(c,d,e,f)"
      ],
      "metadata": {
        "colab": {
          "base_uri": "https://localhost:8080/"
        },
        "id": "WVnPG_MB6FYC",
        "outputId": "f43fef1a-1a7a-495b-a1c0-dd308e7d7320"
      },
      "execution_count": 12,
      "outputs": [
        {
          "output_type": "stream",
          "name": "stdout",
          "text": [
            "Enter a number:32\n",
            "Enter another number:12\n",
            "2.6666666666666665 2 8 384\n"
          ]
        }
      ]
    },
    {
      "cell_type": "code",
      "source": [
        "#relational operators:\n",
        "a=9\n",
        "b=4\n",
        "print(a>b)\n",
        "print(a<b)\n",
        "print(a==b)\n",
        "print(a!=b)\n",
        "print(a<=b)\n",
        "print(a>=b)"
      ],
      "metadata": {
        "colab": {
          "base_uri": "https://localhost:8080/"
        },
        "id": "JtXNc7wK8DEA",
        "outputId": "097bc0a8-df34-4aaa-d039-82a665ce881a"
      },
      "execution_count": 14,
      "outputs": [
        {
          "output_type": "stream",
          "name": "stdout",
          "text": [
            "True\n",
            "False\n",
            "False\n",
            "True\n",
            "False\n",
            "True\n"
          ]
        }
      ]
    },
    {
      "cell_type": "code",
      "source": [
        "a=4\n",
        "b=12\n",
        "print(\"a | b =\", a | b)\n",
        "print(\"~ a =\",~a)\n",
        "print(\"a & b =\",a&b)\n",
        "print(\"a ^ b =\", a^b)"
      ],
      "metadata": {
        "colab": {
          "base_uri": "https://localhost:8080/"
        },
        "id": "iXkI2RKN-tE8",
        "outputId": "7350a348-f28a-47fc-f7cf-2f9177c10617"
      },
      "execution_count": 17,
      "outputs": [
        {
          "output_type": "stream",
          "name": "stdout",
          "text": [
            "a | b = 12\n",
            "~ a = -5\n",
            "a & b = 4\n",
            "a ^ b = 8\n"
          ]
        }
      ]
    },
    {
      "cell_type": "code",
      "source": [
        "#assignment oprators:\n",
        "a=3\n",
        "b=5\n",
        "a+=b\n",
        "print(a)\n",
        "a=a+b\n",
        "print(a)\n",
        "write a program to make a calculator that does all arithmetic and logical and comparision operations"
      ],
      "metadata": {
        "colab": {
          "base_uri": "https://localhost:8080/"
        },
        "id": "1G4EvPS5_k1B",
        "outputId": "3944992f-fc11-456c-db2f-26c612a3174a"
      },
      "execution_count": 20,
      "outputs": [
        {
          "output_type": "stream",
          "name": "stdout",
          "text": [
            "8\n",
            "13\n"
          ]
        }
      ]
    },
    {
      "cell_type": "code",
      "source": [
        "#calculator:\n",
        "a=input(\"Enter the number:\")\n",
        "b=input(\"Enter another number:\")\n",
        "print(\"+,-,*,/,//,%\")\n",
        "c=input(\"Select the operation to be performed:\")\n",
        "if (c == '+') :\n",
        "  d = int(a)+int(b)\n",
        "  print(d)\n",
        "elif (c == '-') :\n",
        "  e = int(a) - int(b)\n",
        "  print(e)\n",
        "elif (c == '*') :\n",
        "  f = int(a)*int(b)\n",
        "  print(f)\n",
        "elif (c == '/') :\n",
        "  g = int(a)/int(b)\n",
        "  print(g)\n",
        "elif (c == '//') :\n",
        "  h = int(a)//int(b)\n",
        "  print(h)\n",
        "elif (c == '%') :\n",
        "  i = int(a)%int(b)\n",
        "  print(i)\n",
        "else :\n",
        "  print(e)"
      ],
      "metadata": {
        "colab": {
          "base_uri": "https://localhost:8080/"
        },
        "id": "p2UJwp-eAq37",
        "outputId": "9a753f7a-218d-412c-b938-e61fff1965b6"
      },
      "execution_count": 46,
      "outputs": [
        {
          "output_type": "stream",
          "name": "stdout",
          "text": [
            "Enter the number:34\n",
            "Enter another number:23\n",
            "+,-,*,/,//,%\n",
            "Select the operation to be performed:-\n",
            "11\n"
          ]
        }
      ]
    }
  ]
}