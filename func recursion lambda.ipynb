{
  "nbformat": 4,
  "nbformat_minor": 0,
  "metadata": {
    "colab": {
      "provenance": [],
      "mount_file_id": "10H52xTqkbsHTHMBMKLwhu4adH6Mn1BKd",
      "authorship_tag": "ABX9TyPJI2qx/5slPGDW7c6x51wd",
      "include_colab_link": true
    },
    "kernelspec": {
      "name": "python3",
      "display_name": "Python 3"
    },
    "language_info": {
      "name": "python"
    }
  },
  "cells": [
    {
      "cell_type": "markdown",
      "metadata": {
        "id": "view-in-github",
        "colab_type": "text"
      },
      "source": [
        "<a href=\"https://colab.research.google.com/github/Vedika-Garg/unit1.ipynb/blob/main/func%20recursion%20lambda.ipynb\" target=\"_parent\"><img src=\"https://colab.research.google.com/assets/colab-badge.svg\" alt=\"Open In Colab\"/></a>"
      ]
    },
    {
      "cell_type": "code",
      "execution_count": null,
      "metadata": {
        "colab": {
          "base_uri": "https://localhost:8080/"
        },
        "id": "z3UZ7M-kEZHn",
        "outputId": "2fde8cc5-b7a9-4faa-86d4-7f449cc3bb5f"
      },
      "outputs": [
        {
          "output_type": "stream",
          "name": "stdout",
          "text": [
            "Enter the number:4\n",
            "4 is even.\n",
            "4 is not a prime number\n"
          ]
        }
      ],
      "source": [
        "#write a function to check whether a number is prime or not as well as even or odd.\n",
        "num=int(input(\"Enter the number:\"))\n",
        "def even():\n",
        "  if num%2==0:\n",
        "    print(num,'is even.')\n",
        "  else :\n",
        "    print(num,\"is odd.\")\n",
        "def prime():\n",
        "  for i in range(num):\n",
        "    if i<=1:\n",
        "      continue\n",
        "    elif num%i==0:\n",
        "      print(num,\"is not a prime number\")\n",
        "      break\n",
        "    else:\n",
        "      continue\n",
        "  if(i+1==num):\n",
        "    print(num,\"is prime number.\")\n",
        "even()\n",
        "#print(even())\n",
        "prime()\n",
        "#print(prime())"
      ]
    },
    {
      "cell_type": "code",
      "source": [
        "#recurssion\n",
        "num=int(input(\"Enter the number:\"))\n",
        "def fact(num):\n",
        "  if num==0 or num==1:\n",
        "    return 1\n",
        "  else:\n",
        "    return num*fact(num-1)\n",
        "fact(num)"
      ],
      "metadata": {
        "colab": {
          "base_uri": "https://localhost:8080/"
        },
        "id": "yYh9I_FTHw7v",
        "outputId": "25ade653-2351-4be9-e4ee-c03dd99b049b"
      },
      "execution_count": null,
      "outputs": [
        {
          "name": "stdout",
          "output_type": "stream",
          "text": [
            "Enter the number:5\n"
          ]
        },
        {
          "output_type": "execute_result",
          "data": {
            "text/plain": [
              "120"
            ]
          },
          "metadata": {},
          "execution_count": 16
        }
      ]
    },
    {
      "cell_type": "code",
      "source": [
        "def greet():\n",
        "  print(\"hii\")\n",
        "  greet()\n",
        "\n",
        "greet()"
      ],
      "metadata": {
        "id": "PhbFoQQRITJr"
      },
      "execution_count": null,
      "outputs": []
    },
    {
      "cell_type": "code",
      "source": [
        "#fibonacci series:\n",
        "a=0\n",
        "b=1\n",
        "print(a)\n",
        "print(b)\n",
        "def fib(n):\n",
        "  a=0\n",
        "  b=1\n",
        "  for i in range(1,n+1):\n",
        "    c=a+b\n",
        "    a=b\n",
        "    b=c\n",
        "    print(c)\n",
        "fib(20)"
      ],
      "metadata": {
        "colab": {
          "base_uri": "https://localhost:8080/"
        },
        "id": "Fg8IMz1-LGlA",
        "outputId": "e484769e-aff8-4f73-966c-59859de716f5"
      },
      "execution_count": null,
      "outputs": [
        {
          "output_type": "stream",
          "name": "stdout",
          "text": [
            "0\n",
            "1\n",
            "1\n",
            "2\n",
            "3\n",
            "5\n",
            "8\n",
            "13\n",
            "21\n",
            "34\n",
            "55\n",
            "89\n",
            "144\n",
            "233\n",
            "377\n",
            "610\n",
            "987\n",
            "1597\n",
            "2584\n",
            "4181\n",
            "6765\n",
            "10946\n"
          ]
        }
      ]
    },
    {
      "cell_type": "code",
      "source": [
        "#cube of number :\n",
        "def cube(n):\n",
        "  return n**3\n",
        "cube(10)"
      ],
      "metadata": {
        "colab": {
          "base_uri": "https://localhost:8080/"
        },
        "id": "6vZ8EmAuNMZF",
        "outputId": "5e5ea7a3-78a4-4dc1-e0b4-7e8a156df09f"
      },
      "execution_count": null,
      "outputs": [
        {
          "output_type": "execute_result",
          "data": {
            "text/plain": [
              "1000"
            ]
          },
          "metadata": {},
          "execution_count": 27
        }
      ]
    },
    {
      "cell_type": "code",
      "source": [
        "#lambda is an annonymous function:\n",
        "a=lambda a:a**3\n",
        "result=a(5)\n",
        "print(result)"
      ],
      "metadata": {
        "colab": {
          "base_uri": "https://localhost:8080/"
        },
        "id": "0yxtJdoQNtd0",
        "outputId": "85f4e380-f898-4281-c869-85facb67da86"
      },
      "execution_count": null,
      "outputs": [
        {
          "output_type": "stream",
          "name": "stdout",
          "text": [
            "125\n"
          ]
        }
      ]
    },
    {
      "cell_type": "code",
      "source": [
        "a=lambda a,b:a+b\n",
        "result=a(5,6)\n",
        "print(result)"
      ],
      "metadata": {
        "colab": {
          "base_uri": "https://localhost:8080/"
        },
        "id": "jijXokAsOWL-",
        "outputId": "22981bd3-d273-46f8-ebc2-81568a798d15"
      },
      "execution_count": null,
      "outputs": [
        {
          "output_type": "stream",
          "name": "stdout",
          "text": [
            "11\n"
          ]
        }
      ]
    },
    {
      "cell_type": "code",
      "source": [
        "a=lambda a:print(a)\n",
        "result=a(4)  #\n",
        "print(result)"
      ],
      "metadata": {
        "colab": {
          "base_uri": "https://localhost:8080/"
        },
        "id": "EbACLqo2OblB",
        "outputId": "d415fc70-f130-47cb-c846-1288f4ab2631"
      },
      "execution_count": null,
      "outputs": [
        {
          "output_type": "stream",
          "name": "stdout",
          "text": [
            "4\n",
            "None\n"
          ]
        }
      ]
    },
    {
      "cell_type": "code",
      "source": [
        "#define sum of a list using recursion\n",
        "l_1=[2,4,5,6,7,11,23,1,5,60]\n",
        "def sum(l_1):\n",
        "  if len(l_1)==0:\n",
        "    return 0\n",
        "  else :\n",
        "    return l_1[0]+sum(l_1[1])\n",
        "sum(l_1)\n",
        "print(\"sum:\",sim(l_1))\n"
      ],
      "metadata": {
        "colab": {
          "base_uri": "https://localhost:8080/",
          "height": 373
        },
        "id": "YuVdz39gT527",
        "outputId": "3022f1dc-f3df-4419-aac6-bf1b30d62d04"
      },
      "execution_count": null,
      "outputs": [
        {
          "output_type": "error",
          "ename": "TypeError",
          "evalue": "object of type 'int' has no len()",
          "traceback": [
            "\u001b[0;31m---------------------------------------------------------------------------\u001b[0m",
            "\u001b[0;31mTypeError\u001b[0m                                 Traceback (most recent call last)",
            "\u001b[0;32m<ipython-input-52-90496dca43ee>\u001b[0m in \u001b[0;36m<cell line: 8>\u001b[0;34m()\u001b[0m\n\u001b[1;32m      6\u001b[0m   \u001b[0;32melse\u001b[0m \u001b[0;34m:\u001b[0m\u001b[0;34m\u001b[0m\u001b[0;34m\u001b[0m\u001b[0m\n\u001b[1;32m      7\u001b[0m     \u001b[0;32mreturn\u001b[0m \u001b[0ml_1\u001b[0m\u001b[0;34m[\u001b[0m\u001b[0;36m0\u001b[0m\u001b[0;34m]\u001b[0m\u001b[0;34m+\u001b[0m\u001b[0msum\u001b[0m\u001b[0;34m(\u001b[0m\u001b[0ml_1\u001b[0m\u001b[0;34m[\u001b[0m\u001b[0;36m1\u001b[0m\u001b[0;34m]\u001b[0m\u001b[0;34m)\u001b[0m\u001b[0;34m\u001b[0m\u001b[0;34m\u001b[0m\u001b[0m\n\u001b[0;32m----> 8\u001b[0;31m \u001b[0msum\u001b[0m\u001b[0;34m(\u001b[0m\u001b[0ml_1\u001b[0m\u001b[0;34m)\u001b[0m\u001b[0;34m\u001b[0m\u001b[0;34m\u001b[0m\u001b[0m\n\u001b[0m\u001b[1;32m      9\u001b[0m \u001b[0mprint\u001b[0m\u001b[0;34m(\u001b[0m\u001b[0;34m\"sum:\"\u001b[0m\u001b[0;34m,\u001b[0m\u001b[0msim\u001b[0m\u001b[0;34m(\u001b[0m\u001b[0ml_1\u001b[0m\u001b[0;34m)\u001b[0m\u001b[0;34m)\u001b[0m\u001b[0;34m\u001b[0m\u001b[0;34m\u001b[0m\u001b[0m\n",
            "\u001b[0;32m<ipython-input-52-90496dca43ee>\u001b[0m in \u001b[0;36msum\u001b[0;34m(l_1)\u001b[0m\n\u001b[1;32m      5\u001b[0m     \u001b[0;32mreturn\u001b[0m \u001b[0;36m0\u001b[0m\u001b[0;34m\u001b[0m\u001b[0;34m\u001b[0m\u001b[0m\n\u001b[1;32m      6\u001b[0m   \u001b[0;32melse\u001b[0m \u001b[0;34m:\u001b[0m\u001b[0;34m\u001b[0m\u001b[0;34m\u001b[0m\u001b[0m\n\u001b[0;32m----> 7\u001b[0;31m     \u001b[0;32mreturn\u001b[0m \u001b[0ml_1\u001b[0m\u001b[0;34m[\u001b[0m\u001b[0;36m0\u001b[0m\u001b[0;34m]\u001b[0m\u001b[0;34m+\u001b[0m\u001b[0msum\u001b[0m\u001b[0;34m(\u001b[0m\u001b[0ml_1\u001b[0m\u001b[0;34m[\u001b[0m\u001b[0;36m1\u001b[0m\u001b[0;34m]\u001b[0m\u001b[0;34m)\u001b[0m\u001b[0;34m\u001b[0m\u001b[0;34m\u001b[0m\u001b[0m\n\u001b[0m\u001b[1;32m      8\u001b[0m \u001b[0msum\u001b[0m\u001b[0;34m(\u001b[0m\u001b[0ml_1\u001b[0m\u001b[0;34m)\u001b[0m\u001b[0;34m\u001b[0m\u001b[0;34m\u001b[0m\u001b[0m\n\u001b[1;32m      9\u001b[0m \u001b[0mprint\u001b[0m\u001b[0;34m(\u001b[0m\u001b[0;34m\"sum:\"\u001b[0m\u001b[0;34m,\u001b[0m\u001b[0msim\u001b[0m\u001b[0;34m(\u001b[0m\u001b[0ml_1\u001b[0m\u001b[0;34m)\u001b[0m\u001b[0;34m)\u001b[0m\u001b[0;34m\u001b[0m\u001b[0;34m\u001b[0m\u001b[0m\n",
            "\u001b[0;32m<ipython-input-52-90496dca43ee>\u001b[0m in \u001b[0;36msum\u001b[0;34m(l_1)\u001b[0m\n\u001b[1;32m      2\u001b[0m \u001b[0ml_1\u001b[0m\u001b[0;34m=\u001b[0m\u001b[0;34m[\u001b[0m\u001b[0;36m2\u001b[0m\u001b[0;34m,\u001b[0m\u001b[0;36m4\u001b[0m\u001b[0;34m,\u001b[0m\u001b[0;36m5\u001b[0m\u001b[0;34m,\u001b[0m\u001b[0;36m6\u001b[0m\u001b[0;34m,\u001b[0m\u001b[0;36m7\u001b[0m\u001b[0;34m,\u001b[0m\u001b[0;36m11\u001b[0m\u001b[0;34m,\u001b[0m\u001b[0;36m23\u001b[0m\u001b[0;34m,\u001b[0m\u001b[0;36m1\u001b[0m\u001b[0;34m,\u001b[0m\u001b[0;36m5\u001b[0m\u001b[0;34m,\u001b[0m\u001b[0;36m60\u001b[0m\u001b[0;34m]\u001b[0m\u001b[0;34m\u001b[0m\u001b[0;34m\u001b[0m\u001b[0m\n\u001b[1;32m      3\u001b[0m \u001b[0;32mdef\u001b[0m \u001b[0msum\u001b[0m\u001b[0;34m(\u001b[0m\u001b[0ml_1\u001b[0m\u001b[0;34m)\u001b[0m\u001b[0;34m:\u001b[0m\u001b[0;34m\u001b[0m\u001b[0;34m\u001b[0m\u001b[0m\n\u001b[0;32m----> 4\u001b[0;31m   \u001b[0;32mif\u001b[0m \u001b[0mlen\u001b[0m\u001b[0;34m(\u001b[0m\u001b[0ml_1\u001b[0m\u001b[0;34m)\u001b[0m\u001b[0;34m==\u001b[0m\u001b[0;36m0\u001b[0m\u001b[0;34m:\u001b[0m\u001b[0;34m\u001b[0m\u001b[0;34m\u001b[0m\u001b[0m\n\u001b[0m\u001b[1;32m      5\u001b[0m     \u001b[0;32mreturn\u001b[0m \u001b[0;36m0\u001b[0m\u001b[0;34m\u001b[0m\u001b[0;34m\u001b[0m\u001b[0m\n\u001b[1;32m      6\u001b[0m   \u001b[0;32melse\u001b[0m \u001b[0;34m:\u001b[0m\u001b[0;34m\u001b[0m\u001b[0;34m\u001b[0m\u001b[0m\n",
            "\u001b[0;31mTypeError\u001b[0m: object of type 'int' has no len()"
          ]
        }
      ]
    },
    {
      "cell_type": "code",
      "source": [
        "#lambda function\n",
        "#filter function (function,iterator)      1)this is inbuilt filter function     2)filter returns true ar false,boolean\n",
        "#now to define function(is_even) there are two ways one we can define as usual(method 1)\n",
        "list_1=[2,4,5,6,7,11,23,1,5,60]\n",
        "def is_even(n):\n",
        "  return n%2==0\n",
        "\n",
        "even=list(filter(is_even,list_1))\n",
        "print(even)"
      ],
      "metadata": {
        "id": "oTXiRchjUw_1",
        "colab": {
          "base_uri": "https://localhost:8080/"
        },
        "outputId": "ba903fd0-22e5-437f-96b2-79bfe8c3e669"
      },
      "execution_count": null,
      "outputs": [
        {
          "output_type": "stream",
          "name": "stdout",
          "text": [
            "[2, 4, 6, 60]\n"
          ]
        }
      ]
    },
    {
      "cell_type": "code",
      "source": [
        "\n",
        "#method2\n",
        "list_1=[2,4,5,6,7,11,23,1,5,60]\n",
        "evens=list(filter(lambda n:n%2==0,list_1))\n",
        "\n",
        "print(evens)"
      ],
      "metadata": {
        "colab": {
          "base_uri": "https://localhost:8080/"
        },
        "id": "cC65AwWYoWn5",
        "outputId": "571fdd61-511c-437f-9383-64af0f03120c"
      },
      "execution_count": null,
      "outputs": [
        {
          "output_type": "stream",
          "name": "stdout",
          "text": [
            "[2, 4, 6, 60]\n"
          ]
        }
      ]
    },
    {
      "cell_type": "code",
      "source": [
        "#map function\n",
        "#map(function,iterator)\n",
        "#method 1 of map\n",
        "list_1=[2,4,5,6,7,11,23,1,5,60]\n",
        "evens=list(filter(lambda n:n%2==0,list_1))\n",
        "\n",
        "print(evens)\n",
        "\n",
        "def update(a):\n",
        "  return a*2\n",
        "operation_1=list(map(update,evens))      #update is a function an devens is an iterator\n",
        "print(operation_1)"
      ],
      "metadata": {
        "colab": {
          "base_uri": "https://localhost:8080/"
        },
        "id": "4_bE2TQfo5Zw",
        "outputId": "a7a6c3ce-6afd-42ea-8e38-4d4449c55d92"
      },
      "execution_count": null,
      "outputs": [
        {
          "output_type": "stream",
          "name": "stdout",
          "text": [
            "[2, 4, 6, 60]\n",
            "[4, 8, 12, 120]\n"
          ]
        }
      ]
    },
    {
      "cell_type": "code",
      "source": [
        "#method 2 of map\n",
        "list_1=[2,4,5,6,7,11,23,1,5,60]\n",
        "evens=list(filter(lambda n:n%2==0,list_1))\n",
        "\n",
        "print(evens)\n",
        "\n",
        "\n",
        "operation_1=list(map(lambda a:a*2,evens))\n",
        "print(operation_1)"
      ],
      "metadata": {
        "colab": {
          "base_uri": "https://localhost:8080/"
        },
        "id": "QGky4SJeqnCU",
        "outputId": "e504cbf4-5646-4fbc-b510-527baffe1a26"
      },
      "execution_count": null,
      "outputs": [
        {
          "output_type": "stream",
          "name": "stdout",
          "text": [
            "[2, 4, 6, 60]\n",
            "[4, 8, 12, 120]\n"
          ]
        }
      ]
    },
    {
      "cell_type": "code",
      "source": [
        "#reduce function\n",
        "\n",
        "list_1=[2,4,5,6,7,11,23,1,5,60]\n",
        "from functools import reduce\n",
        "def adding(a,b):\n",
        "  return a+b\n",
        "\n",
        "\n",
        "output=reduce(adding,list_1)\n",
        "print(output)"
      ],
      "metadata": {
        "colab": {
          "base_uri": "https://localhost:8080/"
        },
        "id": "apoGvBm8q53b",
        "outputId": "3e8b1769-2142-46ce-a3d1-63fbb9807a78"
      },
      "execution_count": null,
      "outputs": [
        {
          "output_type": "stream",
          "name": "stdout",
          "text": [
            "124\n"
          ]
        }
      ]
    },
    {
      "cell_type": "code",
      "source": [
        "output=reduce(lambda a,b:a+b,output)\n",
        "print(output)"
      ],
      "metadata": {
        "id": "txgKFGihsogv"
      },
      "execution_count": null,
      "outputs": []
    },
    {
      "cell_type": "code",
      "source": [
        "#write a program to extract even and odd numbers from a list\n",
        "l_1=[2,4,5,6,7,11,23,1,5,60]\n",
        "def check(l_1):\n",
        "  e=0\n",
        "  od=0\n",
        "  for i in l_1:\n",
        "    if i%2==0:\n",
        "      e+=1\n",
        "    else :\n",
        "      od=od+1\n",
        "  return e,od\n",
        "even,odd=check(l_1)\n",
        "print(even,odd)\n",
        "print(f\"the even numbers are: {even}, the odd numbers are: {odd}\")\n",
        "#output=list(filter(lambda n:n%2==0,l_1))\n",
        "#print(\"Even:\",output)"
      ],
      "metadata": {
        "colab": {
          "base_uri": "https://localhost:8080/"
        },
        "id": "HzWp66NmtSaV",
        "outputId": "2a8a905b-7a8b-4c34-e7f3-bc834644c623"
      },
      "execution_count": null,
      "outputs": [
        {
          "output_type": "stream",
          "name": "stdout",
          "text": [
            "4 6\n",
            "the even numbers are: 4, the odd numbers are: 6\n"
          ]
        }
      ]
    },
    {
      "cell_type": "code",
      "source": [
        "#waf to calculate max value from a list and pass the values to that function from another file\n",
        "#1.using loop only\n",
        "#2.function\n",
        "#3.modules\n",
        "\n",
        "l1=[3,45,67,9]\n",
        "a=l1[0]\n",
        "for i in l1:\n",
        "  if i>a:\n",
        "    a=i\n",
        "print(a)\n",
        "\n",
        "from maximum import maximum\n",
        "a=int(input(\"number of input-->\"))\n",
        "list1=[]\n",
        "for i in range(a):\n",
        "    b=int(input(\"enter the number :\"))\n",
        "    list1.append(b)\n",
        "\n",
        "print(\"maximum value in the list is \",maximum(list1))\n",
        "\n",
        "\n",
        "def maximum(list1):\n",
        "    m=list1[0]\n",
        "    for i in list1:\n",
        "        if (i>m):\n",
        "            m=i\n",
        "\n",
        "    return m"
      ],
      "metadata": {
        "id": "OXOslBBdvoe4",
        "colab": {
          "base_uri": "https://localhost:8080/",
          "height": 401
        },
        "outputId": "8f6b3c8d-107f-43b9-b441-765ffa41386d"
      },
      "execution_count": null,
      "outputs": [
        {
          "output_type": "stream",
          "name": "stdout",
          "text": [
            "67\n"
          ]
        },
        {
          "output_type": "error",
          "ename": "ModuleNotFoundError",
          "evalue": "No module named 'maximum'",
          "traceback": [
            "\u001b[0;31m---------------------------------------------------------------------------\u001b[0m",
            "\u001b[0;31mModuleNotFoundError\u001b[0m                       Traceback (most recent call last)",
            "\u001b[0;32m<ipython-input-7-0058f7d4c33d>\u001b[0m in \u001b[0;36m<cell line: 13>\u001b[0;34m()\u001b[0m\n\u001b[1;32m     11\u001b[0m \u001b[0mprint\u001b[0m\u001b[0;34m(\u001b[0m\u001b[0ma\u001b[0m\u001b[0;34m)\u001b[0m\u001b[0;34m\u001b[0m\u001b[0;34m\u001b[0m\u001b[0m\n\u001b[1;32m     12\u001b[0m \u001b[0;34m\u001b[0m\u001b[0m\n\u001b[0;32m---> 13\u001b[0;31m \u001b[0;32mfrom\u001b[0m \u001b[0mmaximum\u001b[0m \u001b[0;32mimport\u001b[0m \u001b[0mmaximum\u001b[0m\u001b[0;34m\u001b[0m\u001b[0;34m\u001b[0m\u001b[0m\n\u001b[0m\u001b[1;32m     14\u001b[0m \u001b[0ma\u001b[0m\u001b[0;34m=\u001b[0m\u001b[0mint\u001b[0m\u001b[0;34m(\u001b[0m\u001b[0minput\u001b[0m\u001b[0;34m(\u001b[0m\u001b[0;34m\"number of input-->\"\u001b[0m\u001b[0;34m)\u001b[0m\u001b[0;34m)\u001b[0m\u001b[0;34m\u001b[0m\u001b[0;34m\u001b[0m\u001b[0m\n\u001b[1;32m     15\u001b[0m \u001b[0mlist1\u001b[0m\u001b[0;34m=\u001b[0m\u001b[0;34m[\u001b[0m\u001b[0;34m]\u001b[0m\u001b[0;34m\u001b[0m\u001b[0;34m\u001b[0m\u001b[0m\n",
            "\u001b[0;31mModuleNotFoundError\u001b[0m: No module named 'maximum'",
            "",
            "\u001b[0;31m---------------------------------------------------------------------------\u001b[0;32m\nNOTE: If your import is failing due to a missing package, you can\nmanually install dependencies using either !pip or !apt.\n\nTo view examples of installing some common dependencies, click the\n\"Open Examples\" button below.\n\u001b[0;31m---------------------------------------------------------------------------\u001b[0m\n"
          ],
          "errorDetails": {
            "actions": [
              {
                "action": "open_url",
                "actionText": "Open Examples",
                "url": "/notebooks/snippets/importing_libraries.ipynb"
              }
            ]
          }
        }
      ]
    }
  ]
}