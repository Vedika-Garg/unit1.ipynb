{
  "nbformat": 4,
  "nbformat_minor": 0,
  "metadata": {
    "colab": {
      "provenance": [],
      "authorship_tag": "ABX9TyMh16YLHWXnavsT3p9w8wwz",
      "include_colab_link": true
    },
    "kernelspec": {
      "name": "python3",
      "display_name": "Python 3"
    },
    "language_info": {
      "name": "python"
    }
  },
  "cells": [
    {
      "cell_type": "markdown",
      "metadata": {
        "id": "view-in-github",
        "colab_type": "text"
      },
      "source": [
        "<a href=\"https://colab.research.google.com/github/Vedika-Garg/unit1.ipynb/blob/main/practice.ipynb\" target=\"_parent\"><img src=\"https://colab.research.google.com/assets/colab-badge.svg\" alt=\"Open In Colab\"/></a>"
      ]
    },
    {
      "cell_type": "code",
      "source": [
        "#guessing game\n",
        "snum=9\n",
        "chance=2\n",
        "print('\\033[4;36;43m GUESSING GAME:')\n",
        "guess_num=int(input(\"Guess the number:\"))\n",
        "while chance!=0:\n",
        "  if guess_num!=snum:\n",
        "    print(\"Sorry, you loose.\")\n",
        "    chance-=1\n",
        "    guess_num=int(input(\"Guess the number:\"))\n",
        "  else :\n",
        "    print(\"You won.\")\n",
        "    break\n",
        "if chance==0:\n",
        "  print(\"Better luck next time.\")"
      ],
      "metadata": {
        "colab": {
          "base_uri": "https://localhost:8080/"
        },
        "id": "wv-AqF9yEQEv",
        "outputId": "a6f4efe6-e442-4c26-d469-bb9c080c91e0"
      },
      "execution_count": null,
      "outputs": [
        {
          "output_type": "stream",
          "name": "stdout",
          "text": [
            "\u001b[4;36;43m GUESSING GAME:\n",
            "Guess the number:9\n",
            "You won.\n"
          ]
        }
      ]
    },
    {
      "cell_type": "code",
      "source": [
        "#factorial\n",
        "num=int(input(\"Enter the number to get factorial of:\"))\n",
        "fact=1\n",
        "while num>1:\n",
        "  if num>=1:\n",
        "    fact=fact*num\n",
        "    num=num-1\n",
        "  else :\n",
        "    break\n",
        "if num==1:\n",
        "  print(\"factorial of number is:\",fact)"
      ],
      "metadata": {
        "colab": {
          "base_uri": "https://localhost:8080/"
        },
        "id": "UEeQvu-F5jfQ",
        "outputId": "164350b6-abe0-4912-d89b-021023f7a164"
      },
      "execution_count": 14,
      "outputs": [
        {
          "output_type": "stream",
          "name": "stdout",
          "text": [
            "Enter the number to get factorial of:32\n",
            "factorial of number is: 263130836933693530167218012160000000\n"
          ]
        }
      ]
    }
  ]
}