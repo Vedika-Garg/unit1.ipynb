{
  "nbformat": 4,
  "nbformat_minor": 0,
  "metadata": {
    "colab": {
      "provenance": [],
      "authorship_tag": "ABX9TyPEpxCAR0OO7GDqyQvP8E3V",
      "include_colab_link": true
    },
    "kernelspec": {
      "name": "python3",
      "display_name": "Python 3"
    },
    "language_info": {
      "name": "python"
    }
  },
  "cells": [
    {
      "cell_type": "markdown",
      "metadata": {
        "id": "view-in-github",
        "colab_type": "text"
      },
      "source": [
        "<a href=\"https://colab.research.google.com/github/Vedika-Garg/unit1.ipynb/blob/main/class4.ipynb\" target=\"_parent\"><img src=\"https://colab.research.google.com/assets/colab-badge.svg\" alt=\"Open In Colab\"/></a>"
      ]
    },
    {
      "cell_type": "code",
      "execution_count": 15,
      "metadata": {
        "colab": {
          "base_uri": "https://localhost:8080/"
        },
        "id": "TRBXBv6r-mDd",
        "outputId": "b2857570-63d0-424c-cbcf-a53b8e8b4c31"
      },
      "outputs": [
        {
          "output_type": "stream",
          "name": "stdout",
          "text": [
            "Enter the weight to be converted:5\n",
            "Enter the unit(lbs/kg):kg\n",
            "11.025 lbs\n"
          ]
        }
      ],
      "source": [
        "#write python code for weight conversion:\n",
        "w=float(input('Enter the weight to be converted:'))\n",
        "u=str(input('Enter the unit(lbs/kg):'))\n",
        "if u=='lbs' :\n",
        "  w=w*0.454\n",
        "  u='kg'\n",
        "  print(w ,u)\n",
        "elif u=='kg' :\n",
        "  w=w*2.205\n",
        "  u='lbs'\n",
        "  print(w , u)\n",
        "else :\n",
        "  print('cannot say.')"
      ]
    },
    {
      "cell_type": "code",
      "source": [
        "#write a program on a car automation,start stop ,quit,help\n",
        "com=str(input(\"Enter the automation command(start/stop/quit/help):\"))\n",
        "if com==\"start\" :\n",
        "  print(\"The car has been started.\")\n",
        "elif com==\"stop\" :\n",
        "  print(\"The car is going to stop.\")\n",
        "elif com==\"quit\" :\n",
        "  print(\"ok,it will quit.\")\n",
        "elif com==\"help\" :\n",
        "  print(\"what help do you need?.\")\n",
        "else :\n",
        "  print(\"Error.\")"
      ],
      "metadata": {
        "colab": {
          "base_uri": "https://localhost:8080/"
        },
        "id": "phw7fkYeCixy",
        "outputId": "f1abd2a4-5ac9-439d-d146-f42fcc18c388"
      },
      "execution_count": 17,
      "outputs": [
        {
          "output_type": "stream",
          "name": "stdout",
          "text": [
            "Enter the automation command(start/stop/quit/help):6\n",
            "Error.\n"
          ]
        }
      ]
    }
  ]
}