{
  "nbformat": 4,
  "nbformat_minor": 0,
  "metadata": {
    "colab": {
      "provenance": [],
      "authorship_tag": "ABX9TyMMEB2923dPbuaumCbKYxth",
      "include_colab_link": true
    },
    "kernelspec": {
      "name": "python3",
      "display_name": "Python 3"
    },
    "language_info": {
      "name": "python"
    }
  },
  "cells": [
    {
      "cell_type": "markdown",
      "metadata": {
        "id": "view-in-github",
        "colab_type": "text"
      },
      "source": [
        "<a href=\"https://colab.research.google.com/github/Vedika-Garg/unit1.ipynb/blob/main/Python-project-by-Vedika-Garg.ipynb\" target=\"_parent\"><img src=\"https://colab.research.google.com/assets/colab-badge.svg\" alt=\"Open In Colab\"/></a>"
      ]
    },
    {
      "cell_type": "code",
      "source": [
        "import numpy as np\n",
        "\n",
        "#finding empty spapces\n",
        "def find_empty_space(num):\n",
        "    for Row in range(9):\n",
        "        for Col in range(9):\n",
        "            if num[Row][Col] == 0:\n",
        "                return Row,Col\n",
        "    return None, None\n",
        "\n",
        "\n",
        "# guessing the numbers\n",
        "def is_guess_correct(num, guess, row, col):\n",
        "    row_val = num[row]\n",
        "    if guess in row_val:\n",
        "        return False\n",
        "\n",
        "    col_val = [num[i][col] for i in range(9)]\n",
        "    if guess in col_val:\n",
        "        return False\n",
        "    square_check_row = (row // 3) * 3\n",
        "    square_check_col = (col // 3) * 3\n",
        "\n",
        "    for Row in range(square_check_row, square_check_row + 3):\n",
        "        for Col in range(square_check_col, square_check_col + 3):\n",
        "            if num[Row][Col] == guess:\n",
        "                return False\n",
        "    return True\n",
        "\n",
        "\n",
        "#main function of solving game\n",
        "def sudoku_solver(num):\n",
        "    row, col = find_empty_space(num)\n",
        "\n",
        "    if row is None:\n",
        "        return True\n",
        "\n",
        "    for guess in range(1,10):\n",
        "        if is_guess_correct(num, guess, row, col):\n",
        "            num[row][col] = guess\n",
        "            if sudoku_solver(num):\n",
        "                return True\n",
        "\n",
        "        num[row][col] = 0\n",
        "    return False\n",
        "\n",
        "\n",
        "\n",
        "#test sample\n",
        "\n",
        "example = np.array([\n",
        "        [0,0,0,    8,0,0,    0,0,9],\n",
        "        [0,1,9,    0,0,5,    8,3,0],\n",
        "        [0,4,3,    0,1,0,    0,0,7],\n",
        "\n",
        "\n",
        "        [4,0,0,    1,5,0,    0,0,3],\n",
        "        [0,0,2,    7,0,4,    0,1,0],\n",
        "        [0,8,0,    0,9,0,    6,0,0],\n",
        "\n",
        "\n",
        "        [0,7,0,    0,0,6,    3,0,0],\n",
        "        [0,3,0,    0,7,0,    0,8,0],\n",
        "        [9,0,4,    5,0,0,    0,0,1],\n",
        "    ])\n",
        "print(sudoku_solver(example))\n",
        "print(example)"
      ],
      "metadata": {
        "colab": {
          "base_uri": "https://localhost:8080/"
        },
        "id": "YGn417iyWcBL",
        "outputId": "23703d9f-69dc-4395-e05e-b1565dea34f5"
      },
      "execution_count": 4,
      "outputs": [
        {
          "output_type": "stream",
          "name": "stdout",
          "text": [
            "True\n",
            "[[2 5 6 8 3 7 1 4 9]\n",
            " [7 1 9 2 4 5 8 3 6]\n",
            " [8 4 3 6 1 9 2 5 7]\n",
            " [4 6 7 1 5 8 9 2 3]\n",
            " [3 9 2 7 6 4 5 1 8]\n",
            " [5 8 1 3 9 2 6 7 4]\n",
            " [1 7 8 4 2 6 3 9 5]\n",
            " [6 3 5 9 7 1 4 8 2]\n",
            " [9 2 4 5 8 3 7 6 1]]\n"
          ]
        }
      ]
    }
  ]
}